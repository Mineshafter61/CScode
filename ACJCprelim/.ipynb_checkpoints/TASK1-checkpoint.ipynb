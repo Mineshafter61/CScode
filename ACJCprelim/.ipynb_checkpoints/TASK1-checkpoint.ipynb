{
 "cells": [
  {
   "cell_type": "code",
   "execution_count": 22,
   "id": "f2cd8384",
   "metadata": {},
   "outputs": [],
   "source": [
    "# Task 1.1\n",
    "\n",
    "def validate(number):\n",
    "        # 1st condition: Checks if all characters in the number are digits\n",
    "        # 2nd condition (after and): Checks if the string has 12 characters\n",
    "        # 3rd condition: Checks if the number satisfies the condition\n",
    "    return number.isdigit() and len(number) == 12 and (3 * int(number[0]) + int(number[1]) + 3 * int(number[2]) + int(number[3]) + 3 * int(number[4]) + int(number[5]) + 3 * int(number[6]) + int(number[7]) + 3 * int(number[8]) + int(number[9]) + 3 * int(number[10]) + int(number[11])) % 10 == 0"
   ]
  },
  {
   "cell_type": "code",
   "execution_count": 33,
   "id": "c4ce626a-83a0-43b0-bc2f-858cfe57dfa4",
   "metadata": {},
   "outputs": [],
   "source": [
    "# Task 1.2\n",
    "\n",
    "def convert_to_barcode(number):\n",
    "    if validate(number):  # if the number is valid\n",
    "        finalstr = ''  # initialise final string to be returned\n",
    "        convert = (13, 25, 19, 61, 35, 49, 47, 59, 55, 11)  # the binary numbers' actual values\n",
    "        \n",
    "        finalstr += '0'*9  # quiet zone\n",
    "        finalstr += '101'  # start pattern\n",
    "        print(finalstr)\n",
    "        for i in range(6):\n",
    "            finalstr += '{0:07b}'.format(convert[int(number[i])]) # first 6 digits\n",
    "            \n",
    "        finalstr += '01010'  # middle pattern\n",
    "        print(finalstr)\n",
    "        \n",
    "        for i in range(6, 12):\n",
    "            finalstr += '{0:07b}'.format(~convert[int(number[i])]) # last 6 digits\n",
    "        print(finalstr)\n",
    "        \n",
    "        finalstr += '101'  # end pattern\n",
    "        finalstr += '0'*9  # quiet zone\n",
    "        \n",
    "        print(finalstr)\n",
    "        return finalstr"
   ]
  },
  {
   "cell_type": "code",
   "execution_count": null,
   "id": "318132ed-13bb-41d0-83a9-c998e2961f4d",
   "metadata": {},
   "outputs": [],
   "source": []
  },
  {
   "cell_type": "code",
   "execution_count": 34,
   "id": "f085fac7-53e6-4e23-9c17-22e772afe48a",
   "metadata": {},
   "outputs": [
    {
     "name": "stdout",
     "output_type": "stream",
     "text": [
      "True\n",
      "None\n"
     ]
    }
   ],
   "source": [
    "number = '131313131317'\n",
    "print(validate(number))\n",
    "print(convert_to_barcode(number))"
   ]
  },
  {
   "cell_type": "code",
   "execution_count": null,
   "id": "70f0a238-6d4a-4ec8-ab53-3bd35b71f1c5",
   "metadata": {},
   "outputs": [],
   "source": [
    "# Task 1.3\n",
    "\n",
    "def convert_to_number(barcode):\n",
    "    # Validation\n",
    "    if barcode[0:9] == '0'*9 and barcode["
   ]
  }
 ],
 "metadata": {
  "kernelspec": {
   "display_name": "Python 3 (ipykernel)",
   "language": "python",
   "name": "python3"
  },
  "language_info": {
   "codemirror_mode": {
    "name": "ipython",
    "version": 3
   },
   "file_extension": ".py",
   "mimetype": "text/x-python",
   "name": "python",
   "nbconvert_exporter": "python",
   "pygments_lexer": "ipython3",
   "version": "3.9.2"
  }
 },
 "nbformat": 4,
 "nbformat_minor": 5
}
