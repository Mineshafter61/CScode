{
 "cells": [
  {
   "cell_type": "code",
   "execution_count": 11,
   "id": "f2cd8384",
   "metadata": {},
   "outputs": [],
   "source": [
    "# Task 1.1\n",
    "\n",
    "def validate(number):\n",
    "        # 1st condition: Checks if all characters in the number are digits\n",
    "        # 2nd condition (after and): Checks if the string has 12 characters\n",
    "        # 3rd condition: Checks if the number satisfies the condition\n",
    "    return number.isdigit() and len(number) == 12 and (3 * int(number[0]) + int(number[1]) + 3 * int(number[2]) + int(number[3]) + 3 * int(number[4]) + int(number[5]) + 3 * int(number[6]) + int(number[7]) + 3 * int(number[8]) + int(number[9]) + 3 * int(number[10]) + int(number[11])) % 10 == 0"
   ]
  },
  {
   "cell_type": "code",
   "execution_count": 12,
   "id": "c4ce626a-83a0-43b0-bc2f-858cfe57dfa4",
   "metadata": {},
   "outputs": [],
   "source": [
    "# Task 1.2\n",
    "\n",
    "def convert_to_barcode(number):\n",
    "    if validate(number):  # if the number is valid\n",
    "        finalstr = ''  # initialise final string to be returned\n",
    "        convert = (13, 25, 19, 61, 35, 49, 47, 59, 55, 11)  # the binary numbers' actual values (first 6 digits)\n",
    "        \n",
    "        finalstr += '0'*9  # quiet zone\n",
    "        finalstr += '101'  # start pattern\n",
    "        \n",
    "        for i in range(6):\n",
    "            finalstr += '{0:07b}'.format(convert[int(number[i])]) # first 6 digits\n",
    "            \n",
    "        finalstr += '01010'  # middle pattern\n",
    "        \n",
    "        for i in range(6, 12):\n",
    "            finalstr += '{0:07b}'.format(128 + ~convert[int(number[i])]) # last 6 digits. we need to add 128 because python gives a negative number when evaluating the complement, which we don't want.\n",
    "            \n",
    "        finalstr += '101'  # end pattern\n",
    "        finalstr += '0'*9  # quiet zone\n",
    "        \n",
    "        return finalstr"
   ]
  },
  {
   "cell_type": "code",
   "execution_count": 51,
   "id": "318132ed-13bb-41d0-83a9-c998e2961f4d",
   "metadata": {},
   "outputs": [],
   "source": [
    "# Task 1.3\n",
    "\n",
    "def convert_to_number(barcode):\n",
    "    # Validation\n",
    "    # Check for length AND\n",
    "    # Check if all chars are 1 or 0 AND\n",
    "    # Check for quiet zone and start pattern AND\n",
    "    # Check for quiet zone and end pattern AND\n",
    "    # Check for middle zone\n",
    "    if len(barcode) == 113 and all([(x=='0' or x=='1') for x in barcode]) and barcode[0:12] == '0'*9+'101' and barcode[101:113] == '101'+'0'*9 and barcode[54:59] == '01010':\n",
    "        # Remove start and end, and split barcode\n",
    "        barcode1 = barcode[12:54]\n",
    "        barcode2 = barcode[59:101]\n",
    "        finalstr = ''\n",
    "        print(barcode1, barcode2)\n",
    "\n",
    "        digit = barcode1[0:7]  # get the digit\n",
    "        if len([i for i in digit if i=='1']) % 2 == 0:\n",
    "            # reversed barcode\n",
    "            convert = (39, 51, 27, 33, 29, 57, 5, 17, 9, 23)  # the binary numbers' actual values (last 6 digits)\n",
    "\n",
    "            for i in range(6):\n",
    "                digit = barcode1[i*7:i*7+7]  # get the digit\n",
    "                digit = int(digit, 2)  # convert to decimal int format\n",
    "                if digit in convert:\n",
    "                    finalstr = str(convert.index(digit)) + finalstr  # add digit to final string\n",
    "                else:\n",
    "                    return None\n",
    "\n",
    "            for i in range(6):\n",
    "                digit = barcode2[i * 7:i * 7 + 7]  # get the digit\n",
    "                digit = ~int(digit, 2)+128  # convert to decimal int format\n",
    "                if digit in convert:  # add 128 because ~digit is negative\n",
    "                    finalstr = str(convert.index(digit)) + finalstr  # add digit to final string\n",
    "                else:\n",
    "                    return None\n",
    "\n",
    "        else:\n",
    "            # normal barcode\n",
    "            convert = (13, 25, 19, 61, 35, 49, 47, 59, 55, 11)  # the binary numbers' actual values (first 6 digits)\n",
    "\n",
    "            for i in range(6):\n",
    "                digit = barcode1[i*7:i*7+7]  # get the digit\n",
    "                digit = int(digit, 2)  # convert to decimal int format\n",
    "                if digit in convert:\n",
    "                    finalstr = finalstr + str(convert.index(digit))  # add digit to final string\n",
    "                else:\n",
    "                    return None\n",
    "            for i in range(6):\n",
    "                digit = barcode2[i * 7:i * 7 + 7]  # get the digit\n",
    "                digit = ~int(digit, 2)+128  # convert to decimal int format\n",
    "                if digit in convert:  # add 128 because ~digit is negative\n",
    "                    finalstr = finalstr + str(convert.index(digit))  # add digit to final string\n",
    "                else:\n",
    "                    return None\n",
    "\n",
    "        if validate(finalstr):  return finalstr"
   ]
  },
  {
   "cell_type": "code",
   "execution_count": 52,
   "id": "f085fac7-53e6-4e23-9c17-22e772afe48a",
   "metadata": {},
   "outputs": [
    {
     "name": "stdout",
     "output_type": "stream",
     "text": [
      "00000000010100011010111101010111100011010001101000110101010110110011101001100110101110010011101101100101000000000\n",
      "001101101110010011101011001100101110011011 101100010110001011000111101010111101011000\n",
      "27\n",
      "57\n",
      "29\n",
      "51\n",
      "23\n",
      "27\n",
      "39\n",
      "39\n",
      "39\n",
      "5\n",
      "33\n",
      "39\n",
      "036000291452\n"
     ]
    }
   ],
   "source": [
    "number = '036000291452'\n",
    "print(convert_to_barcode(number))\n",
    "print(\n",
    "    convert_to_number(\n",
    "        '00000000010100011010111101010111100011010001101000110101010110110011101001100110101110010011101101100101000000000'[::-1]\n",
    "    ))\n"
   ]
  },
  {
   "cell_type": "code",
   "execution_count": null,
   "id": "70f0a238-6d4a-4ec8-ab53-3bd35b71f1c5",
   "metadata": {},
   "outputs": [],
   "source": []
  }
 ],
 "metadata": {
  "interpreter": {
   "hash": "7812ea015bdcee6f23a998adcdd2ef97c151c0c241b7b7070987d9313e41299d"
  },
  "kernelspec": {
   "display_name": "Python 3.9.2 64-bit",
   "name": "python3"
  },
  "language_info": {
   "codemirror_mode": {
    "name": "ipython",
    "version": 3
   },
   "file_extension": ".py",
   "mimetype": "text/x-python",
   "name": "python",
   "nbconvert_exporter": "python",
   "pygments_lexer": "ipython3",
   "version": "3.9.2"
  }
 },
 "nbformat": 4,
 "nbformat_minor": 5
}
