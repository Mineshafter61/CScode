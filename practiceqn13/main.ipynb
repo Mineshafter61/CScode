{
 "cells": [
  {
   "cell_type": "code",
   "execution_count": 3,
   "id": "c26f991f",
   "metadata": {},
   "outputs": [
    {
     "name": "stdout",
     "output_type": "stream",
     "text": [
      "Chatterbox: This is a test\n",
      "Chatterbot: Sorry, I do not understand...\n",
      "\n",
      "Chatterbox: Well, hello there!\n",
      "Chatterbot: Hi, how are you?\n",
      "\n",
      "Chatterbox: I am fine, thank you.\n",
      "Chatterbot: You are most welcome.\n",
      "\n",
      "Chatterbox: Wait, I have to go...\n",
      "Chatterbot: Sorry, I do not understand...\n",
      "\n",
      "Chatterbox: Never mind. Thanks.\n",
      "Chatterbot: You are most welcome.\n",
      "\n",
      "Chatterbox: HELLO! I have returned.\n",
      "Chatterbot: Hello again, welcome back!\n",
      "\n",
      "Chatterbox: I missed you so much!\n",
      "Chatterbot: You missed me? I really missed you too.\n",
      "\n",
      "Chatterbox: I thank you... hello?\n",
      "Chatterbot: Hello again, welcome back!\n",
      "\n",
      "Chatterbox: You and I think alike, you know...\n",
      "Chatterbot: Sorry, I do not understand...\n",
      "\n",
      "Chatterbox: I LOVE YOU, YOU CUTIE!\n",
      "Chatterbot: You LOVE me? I really LOVE you too.\n",
      "\n"
     ]
    }
   ],
   "source": [
    "def chatterbotmessage(message, helloflag):\n",
    "  '''\n",
    "  chatterbotmessage(message, helloflag)\n",
    "    returns chatterbot's message and the helloflag. IMPT: Add helloflag to a global variable and pass it back into this function.\n",
    "  '''\n",
    "  message = ''.join([char for char in message if (char.islower() or char.isupper() or char == ' ')])\n",
    "  if 'hello' in message.lower() and not helloflag:\n",
    "    return (\"Hi, how are you?\", 1)\n",
    "  if 'hello' in message.lower() and helloflag:\n",
    "    return ('Hello again, welcome back!', 0)\n",
    "  if 'thanks' in message.lower() or 'thank you' in message.lower():\n",
    "    return ('You are most welcome.', 0)\n",
    "  if 'i' in message.lower() and 'you' in message.lower():\n",
    "    index1 = message.lower().index('i') \n",
    "    index2 = message.lower().index('you')\n",
    "    if index1<index2:\n",
    "      return \"You {0} me? I really {0} you too.\".format(message[index1+2 : index2-1]), 0\n",
    "  return 'Sorry, I do not understand...', 0\n",
    "\n",
    "if __name__ == '__main__':\n",
    "    with open('chatterbox.txt', 'r') as target:\n",
    "        helloflag = 0\n",
    "        for line in target:\n",
    "            print('Chatterbox: '+line.strip())\n",
    "            msg, h = chatterbotmessage(line.strip(), helloflag)\n",
    "            helloflag += h\n",
    "            print('Chatterbot: '+msg+'\\n')\n"
   ]
  },
  {
   "cell_type": "code",
   "execution_count": null,
   "id": "5764980e",
   "metadata": {},
   "outputs": [],
   "source": []
  }
 ],
 "metadata": {
  "kernelspec": {
   "display_name": "Python 3",
   "language": "python",
   "name": "python3"
  },
  "language_info": {
   "codemirror_mode": {
    "name": "ipython",
    "version": 3
   },
   "file_extension": ".py",
   "mimetype": "text/x-python",
   "name": "python",
   "nbconvert_exporter": "python",
   "pygments_lexer": "ipython3",
   "version": "3.9.2"
  }
 },
 "nbformat": 4,
 "nbformat_minor": 5
}
