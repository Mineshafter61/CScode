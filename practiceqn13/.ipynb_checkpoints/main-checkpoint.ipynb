{
 "cells": [
  {
   "cell_type": "code",
   "execution_count": null,
   "id": "c26f991f",
   "metadata": {},
   "outputs": [],
   "source": [
    "def chatterbotmessage(message, helloflag):\n",
    "  '''\n",
    "  chatterbotmessage(message, helloflag)\n",
    "    returns chatterbot's message and the helloflag. IMPT: Add helloflag to a global variable and pass it back into this function.\n",
    "  '''\n",
    "  message = ''.join([char for char in message if (char.islower() or char.isupper() or char == ' ')])\n",
    "  if 'hello' in message.lower() and not helloflag:\n",
    "    return (\"Hi, how are you?\", 1)\n",
    "  if 'hello' in message.lower() and helloflag:\n",
    "    return ('Hello again, welcome back!', 0)\n",
    "  if 'thanks' in message.lower() or 'thank you' in message.lower():\n",
    "    return ('You are most welcome.', 0)\n",
    "  if message.split(' ')[0].lower() == 'i' and 'you' in message.split(' ')[2].lower() == 'you':\n",
    "    return \"You {0} me? I really {0} you too.\".format(message.split(' ')[1]), 0\n",
    "  return 'Sorry, I do not understand...', 0\n",
    "\n",
    "if __name__ == '__main__':\n",
    "    with open('chatterbox.txt', 'r') as target:\n",
    "        helloflag = 0\n",
    "        for line in target:\n",
    "            print('Chatterbox: '+line.strip())\n",
    "            msg, h = chatterbotmessage(line.strip(), helloflag)\n",
    "            helloflag += h\n",
    "            print('Chatterbot: '+msg)\n"
   ]
  }
 ],
 "metadata": {
  "kernelspec": {
   "display_name": "Python 3",
   "language": "python",
   "name": "python3"
  },
  "language_info": {
   "codemirror_mode": {
    "name": "ipython",
    "version": 3
   },
   "file_extension": ".py",
   "mimetype": "text/x-python",
   "name": "python",
   "nbconvert_exporter": "python",
   "pygments_lexer": "ipython3",
   "version": "3.9.2"
  }
 },
 "nbformat": 4,
 "nbformat_minor": 5
}
