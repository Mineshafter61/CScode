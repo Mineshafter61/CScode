{
 "cells": [
  {
   "cell_type": "code",
   "execution_count": 2,
   "source": [
    "# Task 2.1\n",
    "import json\n",
    "with open(\"RESTAURANTS.json\", 'r') as restaurantsf:\n",
    "    data = json.load(restaurantsf)\n",
    "restaurants = []\n",
    "names = []  # to keep track of duplicates\n",
    "for each in data:\n",
    "    if each[\"name\"] not in names:\n",
    "        names.append(each[\"name\"])\n",
    "        if type(each['rating']) == str:\n",
    "            each[\"rating\"] = 0\n",
    "        restaurants.append(each)\n",
    "# print(restaurants)"
   ],
   "outputs": [],
   "metadata": {}
  },
  {
   "cell_type": "code",
   "execution_count": 3,
   "source": [
    "# Task 2.2\n",
    "def mergeSort(arr):\n",
    "    if len(arr) == 1:\n",
    "        return arr\n",
    "    else:\n",
    "        m = len(arr) // 2\n",
    "        return merge(mergeSort(arr[:m]), mergeSort(arr[m:]))\n",
    "\n",
    "def merge(l_arr, r_arr):\n",
    "    m_arr = []\n",
    "    while len(l_arr) and len(r_arr):\n",
    "        if l_arr[0] > r_arr[0]:\n",
    "            m_arr.append(l_arr.pop(0))\n",
    "        else:\n",
    "            m_arr.append(r_arr.pop(0))\n",
    "    if len(l_arr):\n",
    "        m_arr += l_arr\n",
    "    else:\n",
    "        m_arr += r_arr\n",
    "    return m_arr\n"
   ],
   "outputs": [],
   "metadata": {}
  },
  {
   "cell_type": "code",
   "execution_count": 4,
   "source": [
    "# Task 2.3\n",
    "ratings_first_list = [(restaurant['rating'], restaurant['name'])\n",
    "                      for restaurant in restaurants]\n",
    "ratings_first_list = mergeSort(ratings_first_list)\n",
    "for restaurant in ratings_first_list[0:10]:\n",
    "    print(restaurant[1])\n"
   ],
   "outputs": [
    {
     "output_type": "stream",
     "name": "stdout",
     "text": [
      "MNhzyvS\n",
      "jRrrzDWUr\n",
      "UvU\n",
      "GSvOtZLegdyv\n",
      "FkbhtDl\n",
      "reBIRhQptkZuUc\n",
      "bfvksSeO\n",
      "PaQdxRFIYIDd\n",
      "rDnCOfjCG\n",
      "fytlbKjB\n"
     ]
    }
   ],
   "metadata": {}
  },
  {
   "cell_type": "code",
   "execution_count": 12,
   "source": [
    "# Task 2.4\n",
    "import pymongo\n",
    "\n",
    "client = pymongo.MongoClient(host='127.0.0.1', port=27017)\n",
    "client.drop_database('Entertainment')\n",
    "db = client.get_database('Entertainment')\n",
    "coll = db.get_collection('Restaurants')\n",
    "d = [{\n",
    "    \"name\": restaurant[1],\n",
    "    \"rating\": restaurant[0]\n",
    "} for restaurant in ratings_first_list]\n",
    "coll.insert_many(d)\n",
    "\n",
    "print(coll.count_documents({}))\n",
    "\n",
    "client.close()"
   ],
   "outputs": [
    {
     "output_type": "stream",
     "name": "stdout",
     "text": [
      "100\n"
     ]
    }
   ],
   "metadata": {}
  }
 ],
 "metadata": {
  "kernelspec": {
   "name": "python3",
   "display_name": "Python 3.9.2 64-bit"
  },
  "language_info": {
   "codemirror_mode": {
    "name": "ipython",
    "version": 3
   },
   "file_extension": ".py",
   "mimetype": "text/x-python",
   "name": "python",
   "nbconvert_exporter": "python",
   "pygments_lexer": "ipython3",
   "version": "3.9.2"
  },
  "interpreter": {
   "hash": "7812ea015bdcee6f23a998adcdd2ef97c151c0c241b7b7070987d9313e41299d"
  }
 },
 "nbformat": 4,
 "nbformat_minor": 5
}