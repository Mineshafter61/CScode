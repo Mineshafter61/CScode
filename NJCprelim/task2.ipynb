{
 "cells": [
  {
   "cell_type": "code",
   "execution_count": null,
   "id": "02e22ee2-3384-4f10-9c13-983b03aeff97",
   "metadata": {},
   "outputs": [],
   "source": [
    "# Task 2.1\n",
    "import json\n",
    "with open(\"RESTAURANTS.json\", 'r') as restaurantsf:\n",
    "  restaurantsdict = json.loads(restaurantsf.read())\n",
    "restaurants = {}\n",
    "for restaurant_name in restaurantsdict:\n",
    "  if restaurant_name not in restaurants:\n",
    "    if type(restaurantsdict[restaurant_name]) != float:\n",
    "      restaurants[restaurant_name] = 0.0\n",
    "    else:\n",
    "      restaurants[restaurant_name] = restaurantsdict[restaurant_name]"
   ]
  },
  {
   "cell_type": "code",
   "execution_count": null,
   "id": "e66101ec-1652-4d00-90a4-1f533c0a6174",
   "metadata": {},
   "outputs": [],
   "source": [
    "# Task 2.2\n",
    "def mergeSort(arr):\n",
    "  if len(arr) == 1:\n",
    "    return arr\n",
    "  else:\n",
    "    m = len(arr) // 2\n",
    "    return merge(mergeSort(arr[:m]), mergeSort(arr[m:]))\n",
    "\n",
    "def merge(l_arr, r_arr):\n",
    "  m_arr = [None for i in range(len(l_arr) + len(r_arr))]\n",
    "  i, j, k = 0, 0, 0\n",
    "  while i < len(l_arr) and j < len(r_arr):\n",
    "    if l_arr[i] > r_arr[j]:\n",
    "      m_arr[k] = l_arr[i]\n",
    "      i += 1\n",
    "    else:\n",
    "      m_arr[k] = r_arr[j]\n",
    "      j += 1\n",
    "    k += 1\n",
    "  while i < len(l_arr):\n",
    "    m_arr[k] = l_arr[i]\n",
    "    i += 1\n",
    "    k += 1\n",
    "  while j < len(r_arr):\n",
    "    m_arr[k] = r_arr[j]\n",
    "    j += 1\n",
    "    k += 1\n",
    "  return m_arr"
   ]
  },
  {
   "cell_type": "code",
   "execution_count": null,
   "id": "7c96fa34-3fbd-4f24-bf19-493812997d52",
   "metadata": {},
   "outputs": [],
   "source": [
    "# Task 2.3\n",
    "ratings_first_list = [(restaurants[restaurant], restaurant) for restaurant in restaurants]\n",
    "ratings_first_list = mergeSort(ratings_first_list)\n",
    "for restaurant in ratings_first_list[0:10]:\n",
    "  print(restaurant[1])"
   ]
  },
  {
   "cell_type": "code",
   "execution_count": null,
   "id": "ad0b9272-692d-43fb-a123-9b3321563aa8",
   "metadata": {},
   "outputs": [],
   "source": [
    "# Task 2.4\n",
    "import pymongo\n",
    "\n",
    "client = pymongo.MongoClient(host='127.0.0.1',port=27017)\n",
    "db = client.get_database('Entertainment')\n",
    "coll = db.get_collection('Restaurants')\n",
    "\n",
    "for restaurant in ratings_first_list:\n",
    "  coll.insert_one({restaurant[1]: restaurant[0]})\n",
    "\n",
    "print(coll.count_documents())\n",
    "\n",
    "client.close()"
   ]
  }
 ],
 "metadata": {
  "kernelspec": {
   "display_name": "Python 3 (ipykernel)",
   "language": "python",
   "name": "python3"
  },
  "language_info": {
   "codemirror_mode": {
    "name": "ipython",
    "version": 3
   },
   "file_extension": ".py",
   "mimetype": "text/x-python",
   "name": "python",
   "nbconvert_exporter": "python",
   "pygments_lexer": "ipython3",
   "version": "3.9.2"
  }
 },
 "nbformat": 4,
 "nbformat_minor": 5
}
