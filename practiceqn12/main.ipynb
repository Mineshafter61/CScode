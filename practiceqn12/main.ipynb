{
 "cells": [
  {
   "cell_type": "code",
   "execution_count": 1,
   "id": "8b62f207",
   "metadata": {},
   "outputs": [
    {
     "name": "stdout",
     "output_type": "stream",
     "text": [
      "Right? Yes!\n"
     ]
    }
   ],
   "source": [
    "## Task 1\n",
    "\n",
    "def decoder():\n",
    "  def uppercase(number):\n",
    "    remainder = int(number)%27\n",
    "    if remainder:\n",
    "      return chr(remainder+64)\n",
    "    else:\n",
    "      return 0\n",
    "\n",
    "  def lowercase(number):\n",
    "    remainder = int(number)%27\n",
    "    if remainder:\n",
    "      return chr(remainder+96)\n",
    "    else:\n",
    "      return 0\n",
    "\n",
    "  def punctuation(number):\n",
    "    return [0,'!','?',',','.',' ',';','\"',\"'\"][int(number)%9]\n",
    "  with open('textstream.txt', 'r') as textstream:\n",
    "    message = textstream.readline().strip().split(',')\n",
    "\n",
    "    # Gets the 3 decoders and set the current decoder to uppercase\n",
    "    mode = [uppercase, lowercase, punctuation]; m = 0;\n",
    "\n",
    "    # Init finalresult string\n",
    "    finalresult = ''\n",
    "    for number in message:\n",
    "      # mode[m] is a function\n",
    "      newchr = mode[m](number)\n",
    "      if newchr == 0:\n",
    "        # switch modes if the function returns 0\n",
    "        m = m+1 if m < 2 else 0\n",
    "      else:\n",
    "        finalresult = finalresult + newchr\n",
    "\n",
    "  # Output\n",
    "  return finalresult\n",
    "\n",
    "print(decoder())"
   ]
  },
  {
   "cell_type": "code",
   "execution_count": 3,
   "id": "546d6ee2",
   "metadata": {},
   "outputs": [
    {
     "name": "stdout",
     "output_type": "stream",
     "text": [
      "Message to encode: Right? Yes!\n",
      "18,0,9,7,8,20,0,2,5,0,25,0,5,19,0,1\n"
     ]
    }
   ],
   "source": [
    "## Task 2\n",
    "\n",
    "def encoder_1(message):\n",
    "  # the 3 encoder types\n",
    "  def uppercase(char):\n",
    "    return ord(char)-64\n",
    "\n",
    "  def lowercase(char):\n",
    "    return ord(char)-96\n",
    "\n",
    "  def punctuation(char):\n",
    "    return [0,'!','?',',','.',' ',';','\"',\"'\"].index(char)\n",
    "\n",
    "  # Gets the 3 encoders and set the current encoder to uppercase\n",
    "  mode = [uppercase, lowercase, punctuation]; m = 0;\n",
    "  charset = ([chr(z) for z in range(65,91)],[chr(z) for z in range(97,123)],['!','?',',','.',' ',';','\"',\"'\"])\n",
    "\n",
    "  # Initialise finalresult list\n",
    "  finalresult = []\n",
    "  for char in message:\n",
    "    # if encoder is wrong, switch encoders and append 0\n",
    "    while char not in charset[m]:\n",
    "      m = m+1 if m < 2 else 0\n",
    "      finalresult.append(0)\n",
    "    # else append the encoded char\n",
    "    finalresult.append(mode[m](char))\n",
    "\n",
    "  return finalresult\n",
    "\n",
    "\n",
    "\n",
    "def encoder():\n",
    "    sentence = input('Message to encode: ')\n",
    "    for char in sentence:\n",
    "        if not char.isalpha() and char not in ['!','?',',','.',' ',';','\"',\"'\"]:\n",
    "            return 'invalid input'\n",
    "    print(','.join([str(x) for x in encoder_1(sentence)]))\n",
    "    \n",
    "encoder()"
   ]
  },
  {
   "cell_type": "code",
   "execution_count": 4,
   "id": "64c037a4",
   "metadata": {},
   "outputs": [
    {
     "name": "stdout",
     "output_type": "stream",
     "text": [
      "Message to encode: Right? Yes!\n",
      "612,0,864,630,112,60,0,182,300,0,2050,0,455,513,0,48\n"
     ]
    }
   ],
   "source": [
    "## Task 3\n",
    "\n",
    "# basically Task 2 but multiply every character by randint(1,17)\n",
    "from random import randint\n",
    "def random_encoder_1(message):\n",
    "    def uppercase(char):\n",
    "        return ord(char)-64\n",
    "\n",
    "    def lowercase(char):\n",
    "        return ord(char)-96\n",
    "\n",
    "    def punctuation(char):\n",
    "        return [0,'!','?',',','.',' ',';','\"',\"'\"].index(char)\n",
    "\n",
    "    mode = [uppercase, lowercase, punctuation]; m = 0;\n",
    "    charset = ([chr(z) for z in range(65,91)],[chr(z) for z in range(97,123)],['!','?',',','.',' ',';','\"',\"'\"])\n",
    "    finalresult = []\n",
    "    for char in message:\n",
    "        while char not in charset[m]:\n",
    "            m = m+1 if m < 2 else 0\n",
    "            finalresult.append(0)\n",
    "        if m < 2:\n",
    "            finalresult.append( randint(1,100) * 27 + mode[m](char) )\n",
    "        else: \n",
    "            finalresult.append( randint(1,100) * 9 + mode[m](char) )\n",
    "\n",
    "    return finalresult\n",
    "\n",
    "def random_encoder():\n",
    "    sentence = input('Message to encode: ')\n",
    "    for char in sentence:\n",
    "        if not char.isalpha() and char not in ['!','?',',','.',' ',';','\"',\"'\"]:\n",
    "            return 'invalid input'\n",
    "    print(','.join([str(x) for x in random_encoder_1(sentence)]))\n",
    "    \n",
    "random_encoder()"
   ]
  },
  {
   "cell_type": "code",
   "execution_count": null,
   "id": "a66a0bea",
   "metadata": {},
   "outputs": [],
   "source": []
  }
 ],
 "metadata": {
  "kernelspec": {
   "display_name": "Python 3",
   "language": "python",
   "name": "python3"
  },
  "language_info": {
   "codemirror_mode": {
    "name": "ipython",
    "version": 3
   },
   "file_extension": ".py",
   "mimetype": "text/x-python",
   "name": "python",
   "nbconvert_exporter": "python",
   "pygments_lexer": "ipython3",
   "version": "3.9.2"
  }
 },
 "nbformat": 4,
 "nbformat_minor": 5
}
