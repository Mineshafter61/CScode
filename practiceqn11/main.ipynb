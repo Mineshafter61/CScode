{
 "cells": [
  {
   "cell_type": "code",
   "execution_count": 1,
   "metadata": {},
   "outputs": [],
   "source": [
    "class Stack():  #insert and remove from rear\n",
    "    def __init__(self):\n",
    "        self.items = []\n",
    "        self.top = 0\n",
    "\n",
    "    def Create(self):\n",
    "        self.items = []\n",
    "        self.top = 0\n",
    "\n",
    "    def Push(self, item):\n",
    "        self.items.append(item)\n",
    "        self.top += 1\n",
    "\n",
    "    def Pop(self):\n",
    "        if self.top == 0:\n",
    "            return \"Stack is empty. Nothing to pop.\"\n",
    "        self.top -= 1\n",
    "        return self.items.pop()\n",
    "\n",
    "    def Peep(self):\n",
    "        if self.top == 0:\n",
    "            return \"Stack is empty\"\n",
    "        return self.items[(self.top) - 1]\n",
    "\n",
    "    def isEmpty(self):\n",
    "        return self.top == 0\n",
    "\n",
    "    def display(self):\n",
    "        [print(x) for x in self.items[::-1]]"
   ]
  },
  {
   "cell_type": "code",
   "execution_count": 2,
   "metadata": {},
   "outputs": [],
   "source": [
    "def CheckNested(construct):\n",
    "    leftBrackets = '([{'\n",
    "    rightBrackets = ')]}'\n",
    "    opStack = Stack()\n",
    "    opStack.Create()\n",
    "\n",
    "    for each in construct:\n",
    "        if each in leftBrackets:\n",
    "            opStack.Push(each)\n",
    "        if each in rightBrackets:\n",
    "            if not opStack.isEmpty():\n",
    "                if leftBrackets.index(opStack.Pop()) != rightBrackets.index(each):\n",
    "                    return False\n",
    "            else:\n",
    "                return False\n",
    "    if not opStack.isEmpty():\n",
    "        return False\n",
    "    return True\n",
    "\n",
    "def task3():\n",
    "    file = open('DATA.txt', 'r')\n",
    "    outfile = open('ERRS.txt','w')\n",
    "    for line in file:\n",
    "        print(line.strip(), end=\"\\t\")\n",
    "        a = CheckNested(line.strip())\n",
    "        print(a)\n",
    "        if not a:\n",
    "            print(line.strip(), file=outfile)\n",
    "        print()\n",
    "    file.close()\n",
    "    outfile.close()"
   ]
  },
  {
   "cell_type": "code",
   "execution_count": 3,
   "metadata": {},
   "outputs": [
    {
     "name": "stdout",
     "output_type": "stream",
     "text": [
      "(() Expecting <)>\n",
      "False\n",
      "\n",
      "{] Expecting <[>\n",
      "False\n",
      "\n",
      ")( Expecting <(>\n",
      "False\n",
      "\n",
      "((())] Expecting <[>\n",
      "False\n",
      "\n",
      "[({)]} Expecting <(>\n",
      "False\n",
      "\n",
      "((([[[]]]){}) Expecting <)>\n",
      "False\n",
      "\n"
     ]
    }
   ],
   "source": [
    "def CheckWellformed(construct):\n",
    "    leftBrackets = '([{'\n",
    "    rightBrackets = ')]}'\n",
    "    opStack = Stack()\n",
    "    opStack.Create()\n",
    "\n",
    "    for each in construct:\n",
    "        if each in leftBrackets:\n",
    "            opStack.Push(each)\n",
    "        if each in rightBrackets:\n",
    "            if not opStack.isEmpty():\n",
    "                if leftBrackets.index(opStack.Pop()) != rightBrackets.index(each):\n",
    "                    print('Expecting <{}>'.format(leftBrackets[rightBrackets.index(each)]))\n",
    "                    return False\n",
    "            else:\n",
    "                print('Expecting <{}>'.format(leftBrackets[rightBrackets.index(each)]))\n",
    "                return False\n",
    "    if not opStack.isEmpty():\n",
    "        print('Expecting <{}>'.format(rightBrackets[leftBrackets.index(opStack.Pop())]))\n",
    "        return False\n",
    "    return True\n",
    "\n",
    "\n",
    "def task4():\n",
    "    file = open('ERRORS.txt', 'r')\n",
    "    for line in file:\n",
    "        print(line.strip(), end=\" \")\n",
    "        print(CheckWellformed(line.strip()))\n",
    "        print()\n",
    "    file.close()\n",
    "\n",
    "task4()"
   ]
  },
  {
   "cell_type": "code",
   "execution_count": null,
   "metadata": {},
   "outputs": [],
   "source": []
  }
 ],
 "metadata": {
  "interpreter": {
   "hash": "aee8b7b246df8f9039afb4144a1f6fd8d2ca17a180786b69acc140d282b71a49"
  },
  "kernelspec": {
   "display_name": "Python 3",
   "language": "python",
   "name": "python3"
  },
  "language_info": {
   "codemirror_mode": {
    "name": "ipython",
    "version": 3
   },
   "file_extension": ".py",
   "mimetype": "text/x-python",
   "name": "python",
   "nbconvert_exporter": "python",
   "pygments_lexer": "ipython3",
   "version": "3.9.2"
  }
 },
 "nbformat": 4,
 "nbformat_minor": 4
}
