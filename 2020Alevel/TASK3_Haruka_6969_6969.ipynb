{
 "cells": [
  {
   "cell_type": "code",
   "execution_count": 2,
   "source": [
    "# Task 3.1\n",
    "\n",
    "def task3_1(quantity_of_data):\n",
    "    # Validation\n",
    "    unit = quantity_of_data[-2:]\n",
    "    value = quantity_of_data[:-2]\n",
    "    if not value.isdigit() or unit not in ('KB', 'MB', 'GB', 'TB'):\n",
    "        return \"invalid data\"\n",
    "    else:\n",
    "        # valid\n",
    "        if   unit == 'KB':\n",
    "            return int(value)*1000\n",
    "        elif unit == 'MB':\n",
    "            return int(value)*1000*1000\n",
    "        elif unit == 'GB':\n",
    "            return int(value)*1000*1000*1000\n",
    "        elif unit == 'TB':\n",
    "            return int(value)*1000*1000*1000*1000\n",
    "\n",
    "print(task3_1('8KB'))"
   ],
   "outputs": [
    {
     "output_type": "stream",
     "name": "stdout",
     "text": [
      "invalid data\n"
     ]
    }
   ],
   "metadata": {}
  },
  {
   "cell_type": "code",
   "execution_count": 7,
   "source": [
    "# Task 3.2\n",
    "\n",
    "def task3_2(quantity_of_data):\n",
    "    # Validation\n",
    "    # check for start of unit\n",
    "    iunits = any([x=='i' for x in quantity_of_data])\n",
    "    if iunits:\n",
    "        unit = quantity_of_data[-3:]\n",
    "        value = quantity_of_data[:-3]\n",
    "    else:\n",
    "        unit = quantity_of_data[-2:]\n",
    "        value = quantity_of_data[:-2]\n",
    "    if not value.isdigit() or unit not in ('KB', 'MB', 'GB', 'TB', 'KiB', 'MiB', 'GiB', 'TiB'):\n",
    "        return \"invalid data\"\n",
    "    else:\n",
    "        # valid\n",
    "        if   unit == 'KB':\n",
    "            return int(value)*1000\n",
    "        elif unit == 'MB':\n",
    "            return int(value)*1000*1000\n",
    "        elif unit == 'GB':\n",
    "            return int(value)*1000*1000*1000\n",
    "        elif unit == 'TB':\n",
    "            return int(value)*1000*1000*1000*1000\n",
    "        \n",
    "        elif unit == 'KiB':\n",
    "            return int(value)*1024\n",
    "        elif unit == 'MiB':\n",
    "            return int(value)*1024*1024\n",
    "        elif unit == 'GiB':\n",
    "            return int(value)*1024*1024*1024\n",
    "        elif unit == 'TiB':\n",
    "            return int(value)*1024*1024*1024*1024\n",
    "\n",
    "print(task3_2('2MiB'))"
   ],
   "outputs": [
    {
     "output_type": "stream",
     "name": "stdout",
     "text": [
      "2097152\n"
     ]
    }
   ],
   "metadata": {}
  },
  {
   "cell_type": "code",
   "execution_count": 8,
   "source": [
    "# Task 3.3\n",
    "\n",
    "def task3_3(quantity_of_data, target_unit):\n",
    "    # Validation\n",
    "    # check for start of unit\n",
    "    iunits = any([x=='i' for x in quantity_of_data])\n",
    "    if iunits:\n",
    "        unit = quantity_of_data[-3:]\n",
    "        value = quantity_of_data[:-3]\n",
    "    else:\n",
    "        unit = quantity_of_data[-2:]\n",
    "        value = quantity_of_data[:-2]\n",
    "    if not value.isdigit() or unit not in ('KB', 'MB', 'GB', 'TB', 'KiB', 'MiB', 'GiB', 'TiB'):\n",
    "        return \"invalid data\"\n",
    "    else:\n",
    "        # valid\n",
    "        if   unit == 'KB':\n",
    "            B = int(value)*1000\n",
    "        elif unit == 'MB':\n",
    "            B = int(value)*1000*1000\n",
    "        elif unit == 'GB':\n",
    "            B = int(value)*1000*1000*1000\n",
    "        elif unit == 'TB':\n",
    "            B = int(value)*1000*1000*1000*1000\n",
    "        \n",
    "        elif unit == 'KiB':\n",
    "            B = int(value)*1024\n",
    "        elif unit == 'MiB':\n",
    "            B = int(value)*1024*1024\n",
    "        elif unit == 'GiB':\n",
    "            B = int(value)*1024*1024*1024\n",
    "        elif unit == 'TiB':\n",
    "            B = int(value)*1024*1024*1024*1024\n",
    "            \n",
    "    # 2nd part of qn\n",
    "    if target_unit not in ('KB', 'MB', 'GB', 'TB', 'KiB', 'MiB', 'GiB', 'TiB'):\n",
    "        return \"invalid data\"\n",
    "    else:\n",
    "        if   target_unit == 'KB':\n",
    "            return B/1000\n",
    "        elif target_unit == 'MB':\n",
    "            return B/1000/1000\n",
    "        elif target_unit == 'GB':\n",
    "            return B/1000/1000/1000\n",
    "        elif target_unit == 'TB':\n",
    "            return B/1000/1000/1000/1000\n",
    "        \n",
    "        elif target_unit == 'KiB':\n",
    "            return B/1024\n",
    "        elif target_unit == 'MiB':\n",
    "            return B/1024/1024\n",
    "        elif target_unit == 'GiB':\n",
    "            return B/1024/1024/1024\n",
    "        elif target_unit == 'TiB':\n",
    "            return B/1024/1024/1024/1024\n",
    "        \n",
    "print(task3_3(\"512MiB\", \"GiB\"))"
   ],
   "outputs": [
    {
     "output_type": "stream",
     "name": "stdout",
     "text": [
      "0.5\n"
     ]
    }
   ],
   "metadata": {}
  },
  {
   "cell_type": "code",
   "execution_count": null,
   "source": [],
   "outputs": [],
   "metadata": {}
  }
 ],
 "metadata": {
  "kernelspec": {
   "name": "python3",
   "display_name": "Python 3.9.2 64-bit"
  },
  "language_info": {
   "codemirror_mode": {
    "name": "ipython",
    "version": 3
   },
   "file_extension": ".py",
   "mimetype": "text/x-python",
   "name": "python",
   "nbconvert_exporter": "python",
   "pygments_lexer": "ipython3",
   "version": "3.9.2"
  },
  "interpreter": {
   "hash": "7812ea015bdcee6f23a998adcdd2ef97c151c0c241b7b7070987d9313e41299d"
  }
 },
 "nbformat": 4,
 "nbformat_minor": 5
}