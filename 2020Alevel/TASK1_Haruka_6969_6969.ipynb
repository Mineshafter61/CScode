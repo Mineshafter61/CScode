{
 "cells": [
  {
   "cell_type": "code",
   "execution_count": 1,
   "id": "8017b9bf",
   "metadata": {},
   "outputs": [],
   "source": [
    "# Task 1\n",
    "def hash_function(string_value): \n",
    "    h = 0\n",
    "    for i in range(len(string_value)):\n",
    "        val = 33 * ord(string_value[i])\n",
    "        h = (h + val) % 1024\n",
    "    return h\n",
    "\n"
   ]
  },
  {
   "cell_type": "code",
   "execution_count": 2,
   "id": "3a65b42c",
   "metadata": {},
   "outputs": [],
   "source": [
    "# Task 1.1\n",
    "def task1_1(string_value):\n",
    "    return hash_function(string_value)"
   ]
  },
  {
   "cell_type": "code",
   "execution_count": 3,
   "id": "f7e6524f",
   "metadata": {},
   "outputs": [
    {
     "name": "stdout",
     "output_type": "stream",
     "text": [
      "388\n",
      "156\n",
      "282\n"
     ]
    }
   ],
   "source": [
    "# Task 1.2\n",
    "def task1_2(seed, string_value):\n",
    "    return task1_1(str(seed)+str(string_value))\n",
    "\n",
    "print(task1_2(\"seed-one\", \"Hello\"))\n",
    "print(task1_2(\"seed-two\", \"Hello\"))\n",
    "print(task1_2(\"seed-three\", \"Hello\"))"
   ]
  },
  {
   "cell_type": "code",
   "execution_count": null,
   "id": "643a564d",
   "metadata": {},
   "outputs": [],
   "source": []
  }
 ],
 "metadata": {
  "kernelspec": {
   "display_name": "Python 3 (ipykernel)",
   "language": "python",
   "name": "python3"
  },
  "language_info": {
   "codemirror_mode": {
    "name": "ipython",
    "version": 3
   },
   "file_extension": ".py",
   "mimetype": "text/x-python",
   "name": "python",
   "nbconvert_exporter": "python",
   "pygments_lexer": "ipython3",
   "version": "3.9.2"
  }
 },
 "nbformat": 4,
 "nbformat_minor": 5
}
