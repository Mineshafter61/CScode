{
 "cells": [
  {
   "cell_type": "code",
   "execution_count": 5,
   "id": "87b47840",
   "metadata": {},
   "outputs": [],
   "source": [
    "# Task 2.1\n",
    "\n",
    "from random import randint\n",
    "\n",
    "def task2_1(filename, quantity, maximum):\n",
    "    with open(filename, 'w+') as f:\n",
    "        for i in range(quantity+1):\n",
    "            print(str(randint(0, maximum)), file=f)\n",
    "\n",
    "task2_1(\"randomnumbers_Haruka_6969_6969.txt\", 1000, 5000)"
   ]
  },
  {
   "cell_type": "code",
   "execution_count": 53,
   "id": "153005b2",
   "metadata": {},
   "outputs": [
    {
     "name": "stdout",
     "output_type": "stream",
     "text": [
      "[0, 0, 4, 4, 5, 7, 18, 25, 56, 98]\n"
     ]
    }
   ],
   "source": [
    "# Task 2.2\n",
    "\n",
    "def task2_2(list_of_integers):\n",
    "    if len(list_of_integers) > 1:\n",
    "        left = list_of_integers[:len(list_of_integers)//2]\n",
    "        right = list_of_integers[(len(list_of_integers)//2):]\n",
    "        task2_2(left)\n",
    "        task2_2(right)\n",
    "        i = 0\n",
    "        j = 0\n",
    "        k = 0\n",
    "        while i < len(left) and j < len(right):\n",
    "            if left[i] < right[j]:\n",
    "                list_of_integers[k] = left[i]\n",
    "                k += 1\n",
    "                i += 1\n",
    "            else:\n",
    "                list_of_integers[k] = right[j]\n",
    "                k += 1\n",
    "                j += 1\n",
    "        while i < len(left):\n",
    "            list_of_integers[k] = left[i]\n",
    "            k += 1\n",
    "            i += 1\n",
    "        while j < len(right):\n",
    "            list_of_integers[k] = right[j]\n",
    "            k += 1\n",
    "            j += 1\n",
    "    return list_of_integers\n",
    "\n",
    "print(task2_2([56, 25, 4, 98, 0, 18, 4, 5, 7, 0]))"
   ]
  },
  {
   "cell_type": "code",
   "execution_count": 54,
   "id": "7deff570",
   "metadata": {},
   "outputs": [],
   "source": [
    "# Task 2.3\n",
    "\n",
    "def task2_3(filename_in, filename_out):\n",
    "    with open(filename_in, 'r') as fin:\n",
    "        number_list = [int(line) for line in fin]\n",
    "    with open(filename_out, 'w') as fout:\n",
    "        sorted_list = task2_2(number_list)\n",
    "        [print(str(no), file=fout) for no in sorted_list]\n",
    "        \n",
    "task2_3(\"randomnumbers_Haruka_6969_6969.txt\", \"sortednumbers_Haruka_6969_6969.txt\")"
   ]
  },
  {
   "cell_type": "code",
   "execution_count": null,
   "id": "59cbd502",
   "metadata": {},
   "outputs": [],
   "source": []
  }
 ],
 "metadata": {
  "kernelspec": {
   "display_name": "Python 3 (ipykernel)",
   "language": "python",
   "name": "python3"
  },
  "language_info": {
   "codemirror_mode": {
    "name": "ipython",
    "version": 3
   },
   "file_extension": ".py",
   "mimetype": "text/x-python",
   "name": "python",
   "nbconvert_exporter": "python",
   "pygments_lexer": "ipython3",
   "version": "3.9.2"
  }
 },
 "nbformat": 4,
 "nbformat_minor": 5
}
