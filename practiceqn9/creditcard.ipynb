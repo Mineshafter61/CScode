{
 "cells": [
  {
   "cell_type": "code",
   "execution_count": 10,
   "metadata": {},
   "outputs": [
    {
     "name": "stdout",
     "output_type": "stream",
     "text": [
      "False\n"
     ]
    }
   ],
   "source": [
    "def validate_creditcard(card_number):\n",
    "    if card_number.isdigit():\n",
    "        visa = (card_number[0] == '4') and (len(card_number) == 13 or len(card_number) == 16)\n",
    "        master = (card_number[0:2] in ('51','52','53','54','55')) and (len(card_number) == 16)\n",
    "        if visa or master:\n",
    "            checkDigit = card_number[-1]\n",
    "            reverseNumbers = []\n",
    "            for i in range(len(card_number)-2, -1, -1):\n",
    "                reverseNumbers.append(int(card_number[i]))\n",
    "            for i in range(0, len(reverseNumbers), 2):\n",
    "                reverseNumbers[i] *= 2  # multiply every alternate digit by 2\n",
    "            total = 0\n",
    "            for i in range(len(reverseNumbers)):  # add up the digits\n",
    "                if reverseNumbers[i] >= 10:\n",
    "                    total += (1 + reverseNumbers[i]%10)\n",
    "                else:\n",
    "                    total += reverseNumbers[i]\n",
    "            return not (total+int(checkDigit)) % 10\n",
    "    return False\n",
    "\n",
    "print(validate_creditcard('5123342212223122'))"
   ]
  }
 ],
 "metadata": {
  "interpreter": {
   "hash": "7812ea015bdcee6f23a998adcdd2ef97c151c0c241b7b7070987d9313e41299d"
  },
  "kernelspec": {
   "display_name": "Python 3.9.2 64-bit",
   "name": "python3"
  },
  "language_info": {
   "codemirror_mode": {
    "name": "ipython",
    "version": 3
   },
   "file_extension": ".py",
   "mimetype": "text/x-python",
   "name": "python",
   "nbconvert_exporter": "python",
   "pygments_lexer": "ipython3",
   "version": "3.9.2"
  },
  "orig_nbformat": 2
 },
 "nbformat": 4,
 "nbformat_minor": 2
}