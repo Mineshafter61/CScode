{
 "cells": [
  {
   "cell_type": "code",
   "execution_count": 5,
   "id": "c3574800",
   "metadata": {},
   "outputs": [
    {
     "name": "stdout",
     "output_type": "stream",
     "text": [
      "No   Name                          Total VIA hours     \n",
      "1    Chan Mall Chan                220                 \n",
      "2    Lim Huat Chye                 201                 \n",
      "3    Irfan Fandi                   144                 \n",
      "4    Rain Kim                      134                 \n",
      "5    Teo Jackson                   80                  \n",
      "6    Poh Freddie                   80                  \n",
      "7    Alice Tey                     75                  \n",
      "8    Huang Eunice                  75                  \n",
      "9    Ann Ng                        56                  \n",
      "10   Ang Peng Siong                56                  \n",
      "11   Gina Tong                     49                  \n",
      "12   Ong Mary                      47                  \n",
      "13   Goh Park Tin                  43                  \n",
      "14   Yong Tau Foo                  43                  \n",
      "15   Timberly Pong                 37                  \n",
      "16   Bernard Oh                    33                  \n",
      "17   Cheong Clement                30                  \n",
      "18   Morgan Ahmad                  28                  \n",
      "19   Lim Wen Hao                   26                  \n",
      "20   Chan Jian Wei                 26                  \n",
      "21   Wong Hui Ting                 24                  \n",
      "22   Vanessa Lee                   24                  \n",
      "23   Ali Mohammed                  22                  \n",
      "24   See Saw                       20                  \n",
      "25   Botak Jones                   19                  \n",
      "26   Charlie Hong                  18                  \n",
      "27   Foo Harry                     17                  \n",
      "28   Chew Xiaoli                   17                  \n",
      "29   Tan Siow Tow                  16                  \n",
      "30   Tommy Chua                    16                  \n",
      "31   Ben Soh                       13                  \n",
      "32   Raymond Weil                  4                   \n",
      "33   Leow Yoyo                     3                   \n",
      "34   Yeo Janet                     2                   \n"
     ]
    }
   ],
   "source": [
    "with open(\"VIA.DAT\", 'r') as file:\n",
    "    studentsVIA = []\n",
    "    for line in file:\n",
    "        studentsVIA.append(line.strip())\n",
    "\n",
    "names = []; hours = [];\n",
    "for i in range(len(studentsVIA)):\n",
    "    if not i%2:\n",
    "        names.append(studentsVIA[i])\n",
    "    else:\n",
    "        hours.append(studentsVIA[i])\n",
    "\n",
    "totalHours = []\n",
    "for i in range(len(hours)):\n",
    "    h1, h2, h3 = hours[i].split(':')\n",
    "    total = int(h1) + int(h2) + int(h3)\n",
    "    totalHours.append(total)\n",
    "\n",
    "for i in range(len(hours)):\n",
    "    for j in range(len(hours)-1):\n",
    "        if totalHours[j]<totalHours[j+1]:\n",
    "            totalHours[j], totalHours[j+1] = totalHours[j+1], totalHours[j]\n",
    "            names     [j], names     [j+1] = names     [j+1], names     [j]\n",
    "\n",
    "print(\"{:<5}{:<30}{:<20}\".format(\"No\", \"Name\", \"Total VIA hours\"))\n",
    "for i in range(len(totalHours)):\n",
    "    print(\"{:<5}{:<30}{:<20}\".format(i+1, names[i], totalHours[i]))"
   ]
  },
  {
   "cell_type": "code",
   "execution_count": 8,
   "id": "ff6fbf79",
   "metadata": {},
   "outputs": [
    {
     "name": "stdout",
     "output_type": "stream",
     "text": [
      "Enter the minimum VIA hours: 20\n",
      "\n",
      "10 students have less than 20 number of VIA hours.\n",
      "\n",
      "1    Botak Jones                   19                  \n",
      "2    Charlie Hong                  18                  \n",
      "3    Foo Harry                     17                  \n",
      "4    Chew Xiaoli                   17                  \n",
      "5    Tan Siow Tow                  16                  \n",
      "6    Tommy Chua                    16                  \n",
      "7    Ben Soh                       13                  \n",
      "8    Raymond Weil                  4                   \n",
      "9    Leow Yoyo                     3                   \n",
      "10   Yeo Janet                     2                   \n"
     ]
    }
   ],
   "source": [
    "def validatehours(hours):\n",
    "    if hours.isdigit() and int(hours) > 0:\n",
    "        return True\n",
    "    return False\n",
    "\n",
    "x = input(\"Enter the minimum VIA hours: \")\n",
    "while not validatehours(x):\n",
    "    x = input(\"Re-enter the minimum VIA hours: \")\n",
    "lessThanX = []\n",
    "for i in range(len(totalHours)):\n",
    "    if totalHours[i] < int(x):\n",
    "        lessThanX.append((names[i], totalHours[i]))\n",
    "print()\n",
    "print(len(lessThanX), \"students have less than\",x,'number of VIA hours.')\n",
    "print()\n",
    "for i in range(len(lessThanX)):\n",
    "    print(\"{:<5}{:<30}{:<20}\".format(i+1, lessThanX[i][0], lessThanX[i][1]))"
   ]
  },
  {
   "cell_type": "code",
   "execution_count": null,
   "id": "e76e6519",
   "metadata": {},
   "outputs": [],
   "source": []
  }
 ],
 "metadata": {
  "kernelspec": {
   "display_name": "Python 3",
   "language": "python",
   "name": "python3"
  },
  "language_info": {
   "codemirror_mode": {
    "name": "ipython",
    "version": 3
   },
   "file_extension": ".py",
   "mimetype": "text/x-python",
   "name": "python",
   "nbconvert_exporter": "python",
   "pygments_lexer": "ipython3",
   "version": "3.9.2"
  }
 },
 "nbformat": 4,
 "nbformat_minor": 5
}
