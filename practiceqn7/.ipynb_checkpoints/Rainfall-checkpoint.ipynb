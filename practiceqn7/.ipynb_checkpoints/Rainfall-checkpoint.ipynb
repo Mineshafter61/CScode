{
 "cells": [
  {
   "cell_type": "code",
   "execution_count": null,
   "id": "81f1d496",
   "metadata": {},
   "outputs": [],
   "source": [
    "file = open(\"rainfall_mth.csv\", 'r');\n",
    "rainfall_mths = [];\n",
    "for line in file:\n",
    "    rainfall_mths.append(line.strip().split(','));\n",
    "file.close();\n",
    "\n",
    "rainfall_mths.pop(0);  # remove first item in list\n",
    "\n",
    "rainfallDict = dict();\n",
    "for item in rainfall_mths:\n",
    "    if int(item[0][0:4]) not in rainfallDict:  # year not in dict\n",
    "        rainfallDict[int(item[0][0:4])] = float(item[1]);  # add in\n",
    "    else:  # year is inside\n",
    "        rainfallDict[int(item[0][0:4])] += float(item[1]);\n",
    "# display\n",
    "print(\"{:^6}|{:^50}\".format(\"Year\", \"Total Annual Rainfall (milimetres in 1 dp)\"))\n",
    "for item in rainfallDict:\n",
    "    print(\"{:^6}|{:^50}\".format(item, round(rainfallDict[item],1)))"
   ]
  },
  {
   "cell_type": "code",
   "execution_count": null,
   "id": "2ce4b333",
   "metadata": {},
   "outputs": [],
   "source": [
    "file = open(\"Rainfall_day.csv\", 'r')\n",
    "rainfall_days = []\n",
    "for line in file:\n",
    "    rainfall_days.append(line.strip().split(','))\n",
    "file.close()\n",
    "rainfall_days.pop(0)\n",
    "\n",
    "rainfallDict_days = dict()\n",
    "for item in rainfall_days:\n",
    "    if int(item[0][0:4]) not in rainfallDict_days:\n",
    "        rainfallDict_days[int(item[0][0:4])] = float(item[1])\n",
    "    else:\n",
    "        rainfallDict_days[int(item[0][0:4])] = rainfallDict_days[int(item[0][0:4])] + float(item[1])\n",
    "\n",
    "def validYear(year):\n",
    "    if not year.isdigit():\n",
    "        return False\n",
    "    if int(year) < 2009 or int(year) > 2014:\n",
    "        return False\n",
    "    return True\n",
    "\n",
    "year = input('Enter the year(2009-2014): ')\n",
    "while not validYear(year):\n",
    "    print(\"Invalid year\")\n",
    "    input('Enter the year(2009-2014): ')\n",
    "year = int(year)\n",
    "print(\"Annual rainfall for a raining day in {} is\".format(year),rainfallDict[year]/rainfallDict_days[year])"
   ]
  },
  {
   "cell_type": "code",
   "execution_count": null,
   "id": "b3c3cbea",
   "metadata": {},
   "outputs": [],
   "source": []
  }
 ],
 "metadata": {
  "kernelspec": {
   "display_name": "Python 3",
   "language": "python",
   "name": "python3"
  },
  "language_info": {
   "codemirror_mode": {
    "name": "ipython",
    "version": 3
   },
   "file_extension": ".py",
   "mimetype": "text/x-python",
   "name": "python",
   "nbconvert_exporter": "python",
   "pygments_lexer": "ipython3",
   "version": "3.9.2"
  }
 },
 "nbformat": 4,
 "nbformat_minor": 5
}
